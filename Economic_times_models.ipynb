{
 "cells": [
  {
   "cell_type": "code",
   "execution_count": 1,
   "metadata": {},
   "outputs": [],
   "source": [
    "import pandas as pd\n",
    "import seaborn as sns\n",
    "import numpy as np\n",
    "import matplotlib.pyplot as plt\n",
    "%matplotlib inline"
   ]
  },
  {
   "cell_type": "code",
   "execution_count": 2,
   "metadata": {},
   "outputs": [],
   "source": [
    "df = pd.read_csv('db_EconomicTimes.collection.csv')"
   ]
  },
  {
   "cell_type": "code",
   "execution_count": 5,
   "metadata": {},
   "outputs": [
    {
     "data": {
      "text/plain": [
       "(26551, 10)"
      ]
     },
     "execution_count": 5,
     "metadata": {},
     "output_type": "execute_result"
    }
   ],
   "source": [
    "df.shape"
   ]
  },
  {
   "cell_type": "code",
   "execution_count": 8,
   "metadata": {},
   "outputs": [
    {
     "name": "stdout",
     "output_type": "stream",
     "text": [
      "New Delhi: Casting the vote could fetch you a 50-paise-perlitre discount on your fuel bill on the election day.\n",
      "\n",
      "“We have come forward to promote voting among the voters with a ‘Promote Voting’ campaign with a 50-paise/litre discount,” the All India Petroleum Dealers Association (AIPDA) said in a statement on Friday. The offer will be available from 8 am to 8 pm at the fuel stations participating in the campaign for customers who have the voting mark on their fingers.\n",
      "\n",
      "A consumer can avail of the discount for a maximum of 20 litres of fuel on that day, AIPDA president Ajay Bansal said, adding that he expects at least 90% of about 58,000 dealermembers of the association will participate in the campaign. Dealers will bear the financial burden of the discount, not the oil companies, Bansal said.\n",
      "\n",
      "Petrol pumps will also have some staff promoting voting among customers, using pamphlets and other campaign material. The general elections are scheduled to be held in seven phases from April 11 to May 19, in which about 90 crore people are eligible to vote.\n",
      "\n",
      "India has about 64,000 petrol pumps of which around one-fourth are in rural areas. State-run companies control 90% of fuel pumps.\n"
     ]
    }
   ],
   "source": [
    "print(df['article_text'][0])"
   ]
  },
  {
   "cell_type": "code",
   "execution_count": 9,
   "metadata": {},
   "outputs": [
    {
     "name": "stdout",
     "output_type": "stream",
     "text": [
      "Exercising your voting right will get you discount at petrol pump\n"
     ]
    }
   ],
   "source": [
    "print(df['article_heading'][0])"
   ]
  },
  {
   "cell_type": "code",
   "execution_count": 10,
   "metadata": {},
   "outputs": [
    {
     "data": {
      "text/html": [
       "<div>\n",
       "<style scoped>\n",
       "    .dataframe tbody tr th:only-of-type {\n",
       "        vertical-align: middle;\n",
       "    }\n",
       "\n",
       "    .dataframe tbody tr th {\n",
       "        vertical-align: top;\n",
       "    }\n",
       "\n",
       "    .dataframe thead th {\n",
       "        text-align: right;\n",
       "    }\n",
       "</style>\n",
       "<table border=\"1\" class=\"dataframe\">\n",
       "  <thead>\n",
       "    <tr style=\"text-align: right;\">\n",
       "      <th></th>\n",
       "      <th>article_heading</th>\n",
       "      <th>article_text</th>\n",
       "      <th>article_url</th>\n",
       "      <th>day_link_to_allArchives</th>\n",
       "      <th>day_name</th>\n",
       "      <th>domain</th>\n",
       "      <th>month_name</th>\n",
       "      <th>timestamp</th>\n",
       "      <th>year_month_url</th>\n",
       "      <th>year_name</th>\n",
       "    </tr>\n",
       "  </thead>\n",
       "  <tbody>\n",
       "    <tr>\n",
       "      <th>0</th>\n",
       "      <td>Exercising your voting right will get you disc...</td>\n",
       "      <td>New Delhi: Casting the vote could fetch you a ...</td>\n",
       "      <td>https://economictimes.indiatimes.com/industry/...</td>\n",
       "      <td>https://economictimes.indiatimes.com/archiveli...</td>\n",
       "      <td>6</td>\n",
       "      <td>Oil &amp; Gas</td>\n",
       "      <td>4</td>\n",
       "      <td>2019-04-06 00:00:00</td>\n",
       "      <td>https://economictimes.indiatimes.com/archive/y...</td>\n",
       "      <td>2019</td>\n",
       "    </tr>\n",
       "    <tr>\n",
       "      <th>1</th>\n",
       "      <td>Top power companies bid for three-year PPA wit...</td>\n",
       "      <td>Power plants of JSW Energy, Jaiprakash Associa...</td>\n",
       "      <td>https://economictimes.indiatimes.com/industry/...</td>\n",
       "      <td>https://economictimes.indiatimes.com/archiveli...</td>\n",
       "      <td>6</td>\n",
       "      <td>Power</td>\n",
       "      <td>4</td>\n",
       "      <td>2019-04-06 00:00:00</td>\n",
       "      <td>https://economictimes.indiatimes.com/archive/y...</td>\n",
       "      <td>2019</td>\n",
       "    </tr>\n",
       "    <tr>\n",
       "      <th>2</th>\n",
       "      <td>India in continuous talks with US over Iran wa...</td>\n",
       "      <td>NEW DELHI: India has asserted that it is engag...</td>\n",
       "      <td>https://economictimes.indiatimes.com/industry/...</td>\n",
       "      <td>https://economictimes.indiatimes.com/archiveli...</td>\n",
       "      <td>6</td>\n",
       "      <td>Oil &amp; Gas</td>\n",
       "      <td>4</td>\n",
       "      <td>2019-04-06 00:00:00</td>\n",
       "      <td>https://economictimes.indiatimes.com/archive/y...</td>\n",
       "      <td>2019</td>\n",
       "    </tr>\n",
       "    <tr>\n",
       "      <th>3</th>\n",
       "      <td>IOC sets up trading desk at Delhi office to bu...</td>\n",
       "      <td>NEW DELHI: India's top refiner Indian Oil Corp...</td>\n",
       "      <td>https://economictimes.indiatimes.com/industry/...</td>\n",
       "      <td>https://economictimes.indiatimes.com/archiveli...</td>\n",
       "      <td>15</td>\n",
       "      <td>Oil &amp; Gas</td>\n",
       "      <td>4</td>\n",
       "      <td>2019-04-15 00:00:00</td>\n",
       "      <td>https://economictimes.indiatimes.com/archive/y...</td>\n",
       "      <td>2019</td>\n",
       "    </tr>\n",
       "    <tr>\n",
       "      <th>4</th>\n",
       "      <td>RIL, Royal Dutch Shell may not seek extension ...</td>\n",
       "      <td>NEW DELHI: Reliance Industries and Royal Dutch...</td>\n",
       "      <td>https://economictimes.indiatimes.com/industry/...</td>\n",
       "      <td>https://economictimes.indiatimes.com/archiveli...</td>\n",
       "      <td>15</td>\n",
       "      <td>Oil &amp; Gas</td>\n",
       "      <td>4</td>\n",
       "      <td>2019-04-15 00:00:00</td>\n",
       "      <td>https://economictimes.indiatimes.com/archive/y...</td>\n",
       "      <td>2019</td>\n",
       "    </tr>\n",
       "  </tbody>\n",
       "</table>\n",
       "</div>"
      ],
      "text/plain": [
       "                                     article_heading  \\\n",
       "0  Exercising your voting right will get you disc...   \n",
       "1  Top power companies bid for three-year PPA wit...   \n",
       "2  India in continuous talks with US over Iran wa...   \n",
       "3  IOC sets up trading desk at Delhi office to bu...   \n",
       "4  RIL, Royal Dutch Shell may not seek extension ...   \n",
       "\n",
       "                                        article_text  \\\n",
       "0  New Delhi: Casting the vote could fetch you a ...   \n",
       "1  Power plants of JSW Energy, Jaiprakash Associa...   \n",
       "2  NEW DELHI: India has asserted that it is engag...   \n",
       "3  NEW DELHI: India's top refiner Indian Oil Corp...   \n",
       "4  NEW DELHI: Reliance Industries and Royal Dutch...   \n",
       "\n",
       "                                         article_url  \\\n",
       "0  https://economictimes.indiatimes.com/industry/...   \n",
       "1  https://economictimes.indiatimes.com/industry/...   \n",
       "2  https://economictimes.indiatimes.com/industry/...   \n",
       "3  https://economictimes.indiatimes.com/industry/...   \n",
       "4  https://economictimes.indiatimes.com/industry/...   \n",
       "\n",
       "                             day_link_to_allArchives  day_name     domain  \\\n",
       "0  https://economictimes.indiatimes.com/archiveli...         6  Oil & Gas   \n",
       "1  https://economictimes.indiatimes.com/archiveli...         6      Power   \n",
       "2  https://economictimes.indiatimes.com/archiveli...         6  Oil & Gas   \n",
       "3  https://economictimes.indiatimes.com/archiveli...        15  Oil & Gas   \n",
       "4  https://economictimes.indiatimes.com/archiveli...        15  Oil & Gas   \n",
       "\n",
       "   month_name            timestamp  \\\n",
       "0           4  2019-04-06 00:00:00   \n",
       "1           4  2019-04-06 00:00:00   \n",
       "2           4  2019-04-06 00:00:00   \n",
       "3           4  2019-04-15 00:00:00   \n",
       "4           4  2019-04-15 00:00:00   \n",
       "\n",
       "                                      year_month_url  year_name  \n",
       "0  https://economictimes.indiatimes.com/archive/y...       2019  \n",
       "1  https://economictimes.indiatimes.com/archive/y...       2019  \n",
       "2  https://economictimes.indiatimes.com/archive/y...       2019  \n",
       "3  https://economictimes.indiatimes.com/archive/y...       2019  \n",
       "4  https://economictimes.indiatimes.com/archive/y...       2019  "
      ]
     },
     "execution_count": 10,
     "metadata": {},
     "output_type": "execute_result"
    }
   ],
   "source": [
    "df.head()"
   ]
  },
  {
   "cell_type": "code",
   "execution_count": 11,
   "metadata": {},
   "outputs": [
    {
     "data": {
      "text/plain": [
       "array(['Oil & Gas', 'Power'], dtype=object)"
      ]
     },
     "execution_count": 11,
     "metadata": {},
     "output_type": "execute_result"
    }
   ],
   "source": [
    "df['domain'].unique()"
   ]
  },
  {
   "cell_type": "code",
   "execution_count": 12,
   "metadata": {},
   "outputs": [
    {
     "name": "stdout",
     "output_type": "stream",
     "text": [
      "<class 'pandas.core.frame.DataFrame'>\n",
      "RangeIndex: 26551 entries, 0 to 26550\n",
      "Data columns (total 10 columns):\n",
      "article_heading            26550 non-null object\n",
      "article_text               26551 non-null object\n",
      "article_url                26551 non-null object\n",
      "day_link_to_allArchives    26551 non-null object\n",
      "day_name                   26551 non-null int64\n",
      "domain                     26551 non-null object\n",
      "month_name                 26551 non-null int64\n",
      "timestamp                  26551 non-null object\n",
      "year_month_url             26551 non-null object\n",
      "year_name                  26551 non-null int64\n",
      "dtypes: int64(3), object(7)\n",
      "memory usage: 2.0+ MB\n"
     ]
    }
   ],
   "source": [
    "df.info()"
   ]
  },
  {
   "cell_type": "code",
   "execution_count": 13,
   "metadata": {},
   "outputs": [
    {
     "data": {
      "text/plain": [
       "{'Oil & Gas': Int64Index([    0,     2,     3,     4,     7,     8,    10,    11,    13,\n",
       "                15,\n",
       "             ...\n",
       "             26536, 26537, 26538, 26539, 26541, 26542, 26543, 26544, 26548,\n",
       "             26549],\n",
       "            dtype='int64', length=13104),\n",
       " 'Power': Int64Index([    1,     5,     6,     9,    12,    14,    19,    20,    23,\n",
       "                24,\n",
       "             ...\n",
       "             26512, 26525, 26526, 26527, 26534, 26540, 26545, 26546, 26547,\n",
       "             26550],\n",
       "            dtype='int64', length=13447)}"
      ]
     },
     "execution_count": 13,
     "metadata": {},
     "output_type": "execute_result"
    }
   ],
   "source": [
    "(df.groupby('domain').groups)"
   ]
  },
  {
   "cell_type": "code",
   "execution_count": 14,
   "metadata": {},
   "outputs": [],
   "source": [
    "grouped = df.groupby('domain')\n",
    "power = grouped.get_group('Power')"
   ]
  },
  {
   "cell_type": "code",
   "execution_count": 15,
   "metadata": {},
   "outputs": [
    {
     "name": "stdout",
     "output_type": "stream",
     "text": [
      "<class 'pandas.core.frame.DataFrame'>\n",
      "Int64Index: 13447 entries, 1 to 26550\n",
      "Data columns (total 10 columns):\n",
      "article_heading            13446 non-null object\n",
      "article_text               13447 non-null object\n",
      "article_url                13447 non-null object\n",
      "day_link_to_allArchives    13447 non-null object\n",
      "day_name                   13447 non-null int64\n",
      "domain                     13447 non-null object\n",
      "month_name                 13447 non-null int64\n",
      "timestamp                  13447 non-null object\n",
      "year_month_url             13447 non-null object\n",
      "year_name                  13447 non-null int64\n",
      "dtypes: int64(3), object(7)\n",
      "memory usage: 1.1+ MB\n"
     ]
    }
   ],
   "source": [
    "power.info()"
   ]
  },
  {
   "cell_type": "markdown",
   "metadata": {},
   "source": []
  },
  {
   "cell_type": "code",
   "execution_count": 16,
   "metadata": {},
   "outputs": [],
   "source": [
    "power_heading = power[['article_heading','timestamp']]"
   ]
  },
  {
   "cell_type": "code",
   "execution_count": 17,
   "metadata": {},
   "outputs": [
    {
     "data": {
      "text/html": [
       "<div>\n",
       "<style scoped>\n",
       "    .dataframe tbody tr th:only-of-type {\n",
       "        vertical-align: middle;\n",
       "    }\n",
       "\n",
       "    .dataframe tbody tr th {\n",
       "        vertical-align: top;\n",
       "    }\n",
       "\n",
       "    .dataframe thead th {\n",
       "        text-align: right;\n",
       "    }\n",
       "</style>\n",
       "<table border=\"1\" class=\"dataframe\">\n",
       "  <thead>\n",
       "    <tr style=\"text-align: right;\">\n",
       "      <th></th>\n",
       "      <th>article_heading</th>\n",
       "      <th>timestamp</th>\n",
       "    </tr>\n",
       "  </thead>\n",
       "  <tbody>\n",
       "    <tr>\n",
       "      <th>1</th>\n",
       "      <td>Top power companies bid for three-year PPA wit...</td>\n",
       "      <td>2019-04-06 00:00:00</td>\n",
       "    </tr>\n",
       "    <tr>\n",
       "      <th>5</th>\n",
       "      <td>Enron-Dabhol power project: Supreme Court clos...</td>\n",
       "      <td>2019-04-11 00:00:00</td>\n",
       "    </tr>\n",
       "    <tr>\n",
       "      <th>6</th>\n",
       "      <td>India's weak power demand points to more slowdown</td>\n",
       "      <td>2019-04-11 00:00:00</td>\n",
       "    </tr>\n",
       "    <tr>\n",
       "      <th>9</th>\n",
       "      <td>Delhi Metro trains to now run on solar power t...</td>\n",
       "      <td>2019-04-18 00:00:00</td>\n",
       "    </tr>\n",
       "    <tr>\n",
       "      <th>12</th>\n",
       "      <td>Cutting household fuel use may save 2.7 lakh l...</td>\n",
       "      <td>2019-04-20 00:00:00</td>\n",
       "    </tr>\n",
       "  </tbody>\n",
       "</table>\n",
       "</div>"
      ],
      "text/plain": [
       "                                      article_heading            timestamp\n",
       "1   Top power companies bid for three-year PPA wit...  2019-04-06 00:00:00\n",
       "5   Enron-Dabhol power project: Supreme Court clos...  2019-04-11 00:00:00\n",
       "6   India's weak power demand points to more slowdown  2019-04-11 00:00:00\n",
       "9   Delhi Metro trains to now run on solar power t...  2019-04-18 00:00:00\n",
       "12  Cutting household fuel use may save 2.7 lakh l...  2019-04-20 00:00:00"
      ]
     },
     "execution_count": 17,
     "metadata": {},
     "output_type": "execute_result"
    }
   ],
   "source": [
    "power_heading.head()"
   ]
  },
  {
   "cell_type": "code",
   "execution_count": 13,
   "metadata": {},
   "outputs": [
    {
     "data": {
      "text/plain": [
       "4139"
      ]
     },
     "execution_count": 13,
     "metadata": {},
     "output_type": "execute_result"
    }
   ],
   "source": [
    "10077-5938"
   ]
  },
  {
   "cell_type": "code",
   "execution_count": 18,
   "metadata": {},
   "outputs": [
    {
     "data": {
      "text/html": [
       "<div>\n",
       "<style scoped>\n",
       "    .dataframe tbody tr th:only-of-type {\n",
       "        vertical-align: middle;\n",
       "    }\n",
       "\n",
       "    .dataframe tbody tr th {\n",
       "        vertical-align: top;\n",
       "    }\n",
       "\n",
       "    .dataframe thead th {\n",
       "        text-align: right;\n",
       "    }\n",
       "</style>\n",
       "<table border=\"1\" class=\"dataframe\">\n",
       "  <thead>\n",
       "    <tr style=\"text-align: right;\">\n",
       "      <th></th>\n",
       "      <th>article_heading</th>\n",
       "      <th>article_text</th>\n",
       "      <th>article_url</th>\n",
       "      <th>day_link_to_allArchives</th>\n",
       "      <th>day_name</th>\n",
       "      <th>domain</th>\n",
       "      <th>month_name</th>\n",
       "      <th>timestamp</th>\n",
       "      <th>year_month_url</th>\n",
       "      <th>year_name</th>\n",
       "    </tr>\n",
       "  </thead>\n",
       "  <tbody>\n",
       "    <tr>\n",
       "      <th>1</th>\n",
       "      <td>Top power companies bid for three-year PPA wit...</td>\n",
       "      <td>Power plants of JSW Energy, Jaiprakash Associa...</td>\n",
       "      <td>https://economictimes.indiatimes.com/industry/...</td>\n",
       "      <td>https://economictimes.indiatimes.com/archiveli...</td>\n",
       "      <td>6</td>\n",
       "      <td>Power</td>\n",
       "      <td>4</td>\n",
       "      <td>2019-04-06 00:00:00</td>\n",
       "      <td>https://economictimes.indiatimes.com/archive/y...</td>\n",
       "      <td>2019</td>\n",
       "    </tr>\n",
       "    <tr>\n",
       "      <th>5</th>\n",
       "      <td>Enron-Dabhol power project: Supreme Court clos...</td>\n",
       "      <td>The Supreme Court on Thursday closed the case ...</td>\n",
       "      <td>https://economictimes.indiatimes.com/industry/...</td>\n",
       "      <td>https://economictimes.indiatimes.com/archiveli...</td>\n",
       "      <td>11</td>\n",
       "      <td>Power</td>\n",
       "      <td>4</td>\n",
       "      <td>2019-04-11 00:00:00</td>\n",
       "      <td>https://economictimes.indiatimes.com/archive/y...</td>\n",
       "      <td>2019</td>\n",
       "    </tr>\n",
       "    <tr>\n",
       "      <th>6</th>\n",
       "      <td>India's weak power demand points to more slowdown</td>\n",
       "      <td>By Rajesh Kumar Singh &amp; Vrishti Beniwal\\nIndia...</td>\n",
       "      <td>https://economictimes.indiatimes.com/industry/...</td>\n",
       "      <td>https://economictimes.indiatimes.com/archiveli...</td>\n",
       "      <td>11</td>\n",
       "      <td>Power</td>\n",
       "      <td>4</td>\n",
       "      <td>2019-04-11 00:00:00</td>\n",
       "      <td>https://economictimes.indiatimes.com/archive/y...</td>\n",
       "      <td>2019</td>\n",
       "    </tr>\n",
       "    <tr>\n",
       "      <th>9</th>\n",
       "      <td>Delhi Metro trains to now run on solar power t...</td>\n",
       "      <td>Delhi Metro trains will now also run on solar ...</td>\n",
       "      <td>https://economictimes.indiatimes.com/industry/...</td>\n",
       "      <td>https://economictimes.indiatimes.com/archiveli...</td>\n",
       "      <td>18</td>\n",
       "      <td>Power</td>\n",
       "      <td>4</td>\n",
       "      <td>2019-04-18 00:00:00</td>\n",
       "      <td>https://economictimes.indiatimes.com/archive/y...</td>\n",
       "      <td>2019</td>\n",
       "    </tr>\n",
       "    <tr>\n",
       "      <th>12</th>\n",
       "      <td>Cutting household fuel use may save 2.7 lakh l...</td>\n",
       "      <td>India could make a major dent in air pollution...</td>\n",
       "      <td>https://economictimes.indiatimes.com/industry/...</td>\n",
       "      <td>https://economictimes.indiatimes.com/archiveli...</td>\n",
       "      <td>20</td>\n",
       "      <td>Power</td>\n",
       "      <td>4</td>\n",
       "      <td>2019-04-20 00:00:00</td>\n",
       "      <td>https://economictimes.indiatimes.com/archive/y...</td>\n",
       "      <td>2019</td>\n",
       "    </tr>\n",
       "  </tbody>\n",
       "</table>\n",
       "</div>"
      ],
      "text/plain": [
       "                                      article_heading  \\\n",
       "1   Top power companies bid for three-year PPA wit...   \n",
       "5   Enron-Dabhol power project: Supreme Court clos...   \n",
       "6   India's weak power demand points to more slowdown   \n",
       "9   Delhi Metro trains to now run on solar power t...   \n",
       "12  Cutting household fuel use may save 2.7 lakh l...   \n",
       "\n",
       "                                         article_text  \\\n",
       "1   Power plants of JSW Energy, Jaiprakash Associa...   \n",
       "5   The Supreme Court on Thursday closed the case ...   \n",
       "6   By Rajesh Kumar Singh & Vrishti Beniwal\\nIndia...   \n",
       "9   Delhi Metro trains will now also run on solar ...   \n",
       "12  India could make a major dent in air pollution...   \n",
       "\n",
       "                                          article_url  \\\n",
       "1   https://economictimes.indiatimes.com/industry/...   \n",
       "5   https://economictimes.indiatimes.com/industry/...   \n",
       "6   https://economictimes.indiatimes.com/industry/...   \n",
       "9   https://economictimes.indiatimes.com/industry/...   \n",
       "12  https://economictimes.indiatimes.com/industry/...   \n",
       "\n",
       "                              day_link_to_allArchives  day_name domain  \\\n",
       "1   https://economictimes.indiatimes.com/archiveli...         6  Power   \n",
       "5   https://economictimes.indiatimes.com/archiveli...        11  Power   \n",
       "6   https://economictimes.indiatimes.com/archiveli...        11  Power   \n",
       "9   https://economictimes.indiatimes.com/archiveli...        18  Power   \n",
       "12  https://economictimes.indiatimes.com/archiveli...        20  Power   \n",
       "\n",
       "    month_name            timestamp  \\\n",
       "1            4  2019-04-06 00:00:00   \n",
       "5            4  2019-04-11 00:00:00   \n",
       "6            4  2019-04-11 00:00:00   \n",
       "9            4  2019-04-18 00:00:00   \n",
       "12           4  2019-04-20 00:00:00   \n",
       "\n",
       "                                       year_month_url  year_name  \n",
       "1   https://economictimes.indiatimes.com/archive/y...       2019  \n",
       "5   https://economictimes.indiatimes.com/archive/y...       2019  \n",
       "6   https://economictimes.indiatimes.com/archive/y...       2019  \n",
       "9   https://economictimes.indiatimes.com/archive/y...       2019  \n",
       "12  https://economictimes.indiatimes.com/archive/y...       2019  "
      ]
     },
     "execution_count": 18,
     "metadata": {},
     "output_type": "execute_result"
    }
   ],
   "source": [
    "power.head()"
   ]
  },
  {
   "cell_type": "code",
   "execution_count": 19,
   "metadata": {},
   "outputs": [],
   "source": [
    "from wordcloud import WordCloud, STOPWORDS\n",
    "import matplotlib.pyplot as plt\n",
    "stopwords = set(STOPWORDS)\n",
    "\n",
    "def show_wordcloud(data, title = None):\n",
    "    wordcloud = WordCloud(\n",
    "        background_color='white',\n",
    "        stopwords=stopwords,\n",
    "        max_words=50,\n",
    "        max_font_size=40, \n",
    "        scale=3,\n",
    "        random_state=1 # chosen at random by flipping a coin; it was heads\n",
    "    ).generate(str(data))\n",
    "\n",
    "    fig = plt.figure(1, figsize=(12, 12))\n",
    "    plt.axis('off')\n",
    "    if title: \n",
    "        fig.suptitle(title, fontsize=20)\n",
    "        fig.subplots_adjust(top=2.3)\n",
    "\n",
    "    plt.imshow(wordcloud)\n",
    "    plt.show()\n",
    "\n"
   ]
  },
  {
   "cell_type": "code",
   "execution_count": 20,
   "metadata": {},
   "outputs": [
    {
     "data": {
      "image/png": "[encoded data removed]",
      "text/plain": [
       "<Figure size 864x864 with 1 Axes>"
      ]
     },
     "metadata": {
      "needs_background": "light"
     },
     "output_type": "display_data"
    }
   ],
   "source": [
    "show_wordcloud(power['article_text'])"
   ]
  },
  {
   "cell_type": "code",
   "execution_count": 21,
   "metadata": {},
   "outputs": [],
   "source": [
    "import re"
   ]
  },
  {
   "cell_type": "code",
   "execution_count": 25,
   "metadata": {},
   "outputs": [],
   "source": [
    "useful_index = []\n",
    "\n",
    "for i in range(0, len(power['article_text'])):\n",
    "    try:\n",
    "    \n",
    "        if len(re.findall(r\"MW[\\w\\W]{1,}CAPACITY|CAPACITY[\\w\\W]{1,}MW\", str(power['article_heading'][i]), re.IGNORECASE)) > 0 :\n",
    "            useful_index.append(i)\n",
    "    except:\n",
    "        continue"
   ]
  },
  {
   "cell_type": "code",
   "execution_count": 26,
   "metadata": {
    "scrolled": true
   },
   "outputs": [
    {
     "data": {
      "text/plain": [
       "[14,\n",
       " 31,\n",
       " 155,\n",
       " 323,\n",
       " 386,\n",
       " 461,\n",
       " 726,\n",
       " 914,\n",
       " 1083,\n",
       " 1132,\n",
       " 1501,\n",
       " 1553,\n",
       " 1606,\n",
       " 1758,\n",
       " 1900,\n",
       " 2260,\n",
       " 2464,\n",
       " 2612,\n",
       " 2809,\n",
       " 2814,\n",
       " 2926,\n",
       " 2971,\n",
       " 2973,\n",
       " 2984,\n",
       " 3032,\n",
       " 3040,\n",
       " 3075,\n",
       " 3118,\n",
       " 3142,\n",
       " 3201,\n",
       " 3249,\n",
       " 3251,\n",
       " 3378,\n",
       " 3401,\n",
       " 3412,\n",
       " 3423,\n",
       " 3776,\n",
       " 3861,\n",
       " 3943,\n",
       " 3970,\n",
       " 4007,\n",
       " 4148,\n",
       " 4385,\n",
       " 4443,\n",
       " 4561,\n",
       " 4709,\n",
       " 4767,\n",
       " 4818,\n",
       " 4835,\n",
       " 4983,\n",
       " 5109,\n",
       " 5176,\n",
       " 5244,\n",
       " 5258,\n",
       " 5378,\n",
       " 5430,\n",
       " 5433,\n",
       " 5487,\n",
       " 5493,\n",
       " 5734,\n",
       " 5785,\n",
       " 5806,\n",
       " 5831,\n",
       " 5847,\n",
       " 5906,\n",
       " 5922,\n",
       " 5946,\n",
       " 5963,\n",
       " 6007,\n",
       " 6217,\n",
       " 6334,\n",
       " 6337,\n",
       " 6540,\n",
       " 6837,\n",
       " 6854,\n",
       " 6963,\n",
       " 6988,\n",
       " 7046,\n",
       " 7079,\n",
       " 7113,\n",
       " 7134,\n",
       " 7244,\n",
       " 7364,\n",
       " 7423,\n",
       " 7541,\n",
       " 7672,\n",
       " 7738,\n",
       " 7740,\n",
       " 7822,\n",
       " 8036,\n",
       " 8037,\n",
       " 8276,\n",
       " 8371,\n",
       " 8870,\n",
       " 8884,\n",
       " 8948,\n",
       " 8950,\n",
       " 8952,\n",
       " 9033,\n",
       " 9065,\n",
       " 9095,\n",
       " 9123,\n",
       " 9532,\n",
       " 9640,\n",
       " 9646,\n",
       " 9652,\n",
       " 9714,\n",
       " 9961,\n",
       " 10085,\n",
       " 10729,\n",
       " 10991,\n",
       " 11077,\n",
       " 11135,\n",
       " 11314,\n",
       " 11497,\n",
       " 11816,\n",
       " 11834,\n",
       " 11872,\n",
       " 11880,\n",
       " 12060,\n",
       " 12105,\n",
       " 12272,\n",
       " 12414,\n",
       " 12716,\n",
       " 12728,\n",
       " 13121,\n",
       " 13261,\n",
       " 13411]"
      ]
     },
     "execution_count": 26,
     "metadata": {},
     "output_type": "execute_result"
    }
   ],
   "source": [
    "useful_index"
   ]
  },
  {
   "cell_type": "code",
   "execution_count": 27,
   "metadata": {},
   "outputs": [
    {
     "data": {
      "text/plain": [
       "128"
      ]
     },
     "execution_count": 27,
     "metadata": {},
     "output_type": "execute_result"
    }
   ],
   "source": [
    "len(useful_index)"
   ]
  },
  {
   "cell_type": "code",
   "execution_count": 28,
   "metadata": {},
   "outputs": [
    {
     "data": {
      "text/plain": [
       "'NEW DELHI: State-owned BHEL said it has successfully commissioned a 800 MW thermal unit within a record time of 46 months in Telangana.\\n\\n\"The 800 MW set has been commissioned at Kothagudem Thermal Power Station (KTPS) of Telangana State Power Generation Corporation (TSGENCO),\" Bharat Heavy Electricals Ltd (BHEL) said in a statement.\\n\\nBHEL has executed this project on Engineering, Procurement and Construction (EPC) basis.\\n\\n\"Enhanced focus on expeditious project execution has resulted in BHEL creating a new benchmark of successfully commissioning a 800 MW thermal unit within a record time of 46 months. Following the successful commissioning in record time by BHEL, the power plant has attained commercial operation,\" it added.\\n\\nBesides the 1x800 MW Kothagudem project, TSGENCO had awarded the 5x800 MW Yadadri project and the 4x270 MW Bhadradari project to BHEL, which are presently under execution.\\n\\nBHEL is also executing the Steam Generator package at the 2x800 MW Telangana STPP for NTPC in the state, it added.'"
      ]
     },
     "execution_count": 28,
     "metadata": {},
     "output_type": "execute_result"
    }
   ],
   "source": [
    "power['article_text'][349]"
   ]
  },
  {
   "cell_type": "code",
   "execution_count": 30,
   "metadata": {},
   "outputs": [
    {
     "data": {
      "text/plain": [
       "'NEW DELHI: State-owned BHEL said it has successfully commissioned a 800 MW thermal unit within a record time of 46 months in Telangana.\\\\n\\\\n\"The 800 MW set has been commissioned at Kothagudem Thermal Power Station (KTPS) of Telangana State Power Generation Corporation (TSGENCO),\" Bharat Heavy Electricals Ltd (BHEL) said in a statement.\\\\n\\\\nBHEL has executed this project on Engineering, Procurement and Construction (EPC) basis.\\\\n\\\\n\"Enhanced focus on expeditious project execution has resulted in BHEL creating a new benchmark of successfully commissioning a 800 MW thermal unit within a record time of 46 months. Following the successful commissioning in record time by BHEL, the power plant has attained commercial operation,\" it added.\\\\n\\\\nBesides the 1x800 MW Kothagudem project, TSGENCO had awarded the 5x800 MW Yadadri project and the 4x270 MW Bhadradari project to BHEL, which are presently under execution.\\\\n\\\\nBHEL is also executing the Steam Generator package at the 2x800 MW Telangana STPP for NTPC in the state, it added.'"
      ]
     },
     "execution_count": 30,
     "metadata": {},
     "output_type": "execute_result"
    }
   ],
   "source": [
    "power.article_text[349]"
   ]
  },
  {
   "cell_type": "code",
   "execution_count": 31,
   "metadata": {
    "scrolled": false
   },
   "outputs": [
    {
     "name": "stdout",
     "output_type": "stream",
     "text": [
      "Wind energy capacity addition reduces under auction regime \n",
      "\n",
      " BENGALURU: While the onset of wind auctions from early last year has led to greater transparency in the determination of wind tariffs, the transition has also sharply reduced wind capacity addition in 2017-18. The capacity added has only been 1,739.14 MW through the year against a target of 4,500 MW, and far less than the 5,400 MW added in 2016-17 or even the 3,460 MW achieved in 2015-16.\\n\\nIn both 2016-17 and 2015-16, wind capacity addition had surpassed its target, while in 2017-18 it has fallen well short. \\n\\nIndia’s total wind capacity stood at 32,916 MW at the end of March 2018, up from 31,177 MW a year ago.\\n\\nOnly eight states in India have wind velocities strong enough to produce energy – Rajasthan, Gujarat, Maharashtra, Madhya Pradesh, Andhra Pradesh, Telangana, Tamil Nadu and Karnataka. Among these, the highest capacity addition in 2017-18 was in Karnataka, which commissioned 758 MW, followed by Andhra Pradesh, which added 344.1 MW. But two states, Madhya Pradesh and Telangana, did not add a single megawatt.\\n\\nLast year Andhra Pradesh had topped installations with a whopping 2,190 MW, followed by Gujarat with 1,275 MW and Karnataka with 882 MW.\\n\\nAmong wind turbine makers, of the 1,739 MW installed, the largest chunk was put up by Suzlon with 623 MW, followed by Siemens Gamesa with 570 MW.\\n\\nUntil February 2017, wind tariffs were set by the respective power regulators of the wind energy producing states (feed-in tariff), and varied between Rs 4 and Rs 6 per unit, depending the speed and intensity of the wind they received. Developers first set up projects and then signed power purchase agreements (PPAs) with the concerned power distribution company, since the tariff was fixed beforehand.\\n\\nIn February, the Solar Corporation of India conducted its first wind reverse auction of 1000 MW, which saw the winning tariff tumble to Rs 3.46 per unit. At this, discoms and power regulators in the wind energy states felt they had been paying too much for wind power and most of them promptly stopped signing PPAs under the feed-in tariff system altogether. Some states were even reluctant to honour already signed PPAs because of their higher tariffs. \\n\\nSo too most developers with half built projects temporarily abandoned them, realising no PPA would be signed for the project unless they won an auction. Capacity addition thereby plummeted.\\n\\nWind auctions too were relatively few through most of 2017, though even if more had been held, projects could not have been completed within the financial year. Tamil Nadu and Gujarat held 500 MW auctions each in July and December, while SECI held another one for 1000 MW in October. These saw wind tariffs fall further to a record low of Rs 2.43 per unit in Gujarat’s December auction.\\n\\nAnand Kumar, Secretary, Ministry of New and Renewable Energy, while acknowledging the fall in wind energy addition, pointed to the decline in tariffs as well. “After auctions, the tariff has fallen to Rs 2.43 per unit from Rs 4-5 per unit during the FiT regime,” he said. \\n\\nBesides, in 2018, wind auctions have been picking up, kindling hope that 2018-19 will again see substantial capacity addition. SECI held a 2000 MW auction in February and another 2000 MW will be auctioned later this week. “We have bid out a record 12,500 MW in wind and solar in 2017-18,” said Kumar. \n",
      "\n",
      "\n",
      "\n",
      "\n",
      "\n",
      "\n",
      "\n",
      "\n",
      "\n",
      "\n",
      "\n",
      "\n",
      "\n",
      "\n",
      "\n",
      "\n",
      "\n",
      "\n",
      "\n",
      "\n",
      "Wind power capacity addition put on fast track, 4,500MW up for auction \n",
      "\n",
      " NEW DELHI: The government is planning to auction 4,500 MW wind projects in the next four months to upscale the wind capacity addition in the country, sources say.  \"An additional bid of 1,500 MW wind projects will be rolled out in October. There will be two more wind bids of the same capacity in December this year and February next year,\" a government official aware of the developments told ET.  The successive bids come in backdrop of meagre wind capacity addition this year, as the government is looking to enhance its capacity installation in the wind sector. “The government wants to speed up the capacity installation in wind projects,\" the official said. The auctions will be conducted by Solar Energy Corporation of India (SECI).  “The NIT (notice inviting tender) will be issued now (for the October bid), so that we don’t lose much time, and then just as the old bids are finalised, we will ask for the reverse auctions,” the official said.  Wind auctions conducted on October 4 this year saw record low wind tariffs at Rs 2.64 per unit. No capacity addition in the wind sector might have also resulted in the low tariffs, as equipment suppliers were left with huge inventory, developers and experts had told ET.  While such low tariffs may not be a repetition again, the government wants to ensure that tariffs do not go up again. These successive bids lined up over the next four months, may be postponed if developers come together and shoot up the prices.  \"Ultimately if the prices go up, we will hold back the auctions. If there is a cartelisation, then the bid will not be allowed,\" the official added.  The upcoming wind power auctions will also see an enhancement in the bid size for developers. “Now the developers may be allowed to bid for up to 400 MW projects,” the official said.  The government is expecting tariffs for both wind and solar power to go down with more new technology coming in, ETreported on October 12.  Power from renewable energy contributes about 17.5% to the country's energy mix. The government has set a target of 175 GW renewable energy capacity addition by 2022, of which 100 GW is to come from solar, 60 GW from wind, 10 GW from biomass and 5 GW from hydro projects. \n",
      "\n",
      "\n",
      "\n",
      "\n",
      "\n",
      "\n",
      "\n",
      "\n",
      "\n",
      "\n",
      "\n",
      "\n",
      "\n",
      "\n",
      "\n",
      "\n",
      "\n",
      "\n",
      "\n",
      "\n",
      "Govt to auction wind projects of 4 GW capacity in FY18 \n",
      "\n",
      " NEW DELHI: The government plans to auction wind power projects of about 4 gigawatt (GW) capacity in tranches this year, a senior official said on Friday. \\n\\n“The first batch of such auction is being planned next month,” said Ashvini Kumar, managing director, Solar Energy Corporation of India. \\n\\nThe SECI is the nodal agency for holding the auctions this fiscal, part of government's plan to set up wind power capacity of 60 GW by 2022. \\n\\n“There should be auction of 5-6 GW wind power capacity every year after this fiscal for meeting the target of 60 GW wind energy by 2022,” Kumar said. \\n\\nThe government has decided to go the bidding route as the first ever auction of wind power projects in February 2017 had seen power tariffs falling to all-time low of 3.46 per unit. \\n\\nWind power capacity of 1 GW was auctioned by SECI in February. \\n\\nPower minister Piyush Goyal in February had indicated that the government could go for more such auctions in future as the average wind tariff, that was hovering above Rs 5 per unit earlier. \n",
      "\n",
      "\n",
      "\n",
      "\n",
      "\n",
      "\n",
      "\n",
      "\n",
      "\n",
      "\n",
      "\n",
      "\n",
      "\n",
      "\n",
      "\n",
      "\n",
      "\n",
      "\n",
      "\n",
      "\n"
     ]
    }
   ],
   "source": [
    "for each in useful_index:\n",
    "    print(power.article_heading[each], \"\\n\\n\", power.article_text[each], \"\\n\\n\"*10 )"
   ]
  },
  {
   "cell_type": "code",
   "execution_count": null,
   "metadata": {
    "collapsed": true
   },
   "outputs": [],
   "source": [
    "power.head()"
   ]
  },
  {
   "cell_type": "code",
   "execution_count": null,
   "metadata": {
    "collapsed": true
   },
   "outputs": [],
   "source": [
    "from nlt"
   ]
  },
  {
   "cell_type": "code",
   "execution_count": null,
   "metadata": {
    "collapsed": true
   },
   "outputs": [],
   "source": [
    "article_head = power['article_heading']"
   ]
  },
  {
   "cell_type": "code",
   "execution_count": null,
   "metadata": {
    "collapsed": true
   },
   "outputs": [],
   "source": [
    "list_of_words = []"
   ]
  },
  {
   "cell_type": "code",
   "execution_count": null,
   "metadata": {
    "collapsed": true
   },
   "outputs": [],
   "source": [
    "corpus_words = []\n",
    "\n",
    "for each_article_heading in article_head:\n",
    "    split_list = each_article_heading.split()\n",
    "    \n",
    "    for each_word in split_list:\n",
    "        "
   ]
  },
  {
   "cell_type": "code",
   "execution_count": null,
   "metadata": {
    "collapsed": true
   },
   "outputs": [],
   "source": []
  }
 ],
 "metadata": {
  "kernelspec": {
   "display_name": "Python 3",
   "language": "python",
   "name": "python3"
  },
  "language_info": {
   "codemirror_mode": {
    "name": "ipython",
    "version": 3
   },
   "file_extension": ".py",
   "mimetype": "text/x-python",
   "name": "python",
   "nbconvert_exporter": "python",
   "pygments_lexer": "ipython3",
   "version": "3.6.8"
  }
 },
 "nbformat": 4,
 "nbformat_minor": 2
}
